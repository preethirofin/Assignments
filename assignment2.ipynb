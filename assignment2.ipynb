{
 "cells": [
  {
   "cell_type": "code",
   "execution_count": 1,
   "metadata": {},
   "outputs": [],
   "source": [
    "def myreduce(function, sequence):\n",
    "    result=sequence[0]\n",
    "    for item in sequence[1:]:\n",
    "        result=function(result,item)\n",
    "    return result\n"
   ]
  },
  {
   "cell_type": "code",
   "execution_count": 2,
   "metadata": {},
   "outputs": [],
   "source": [
    "def myfilter(function,lst):\n",
    "    result=[]\n",
    "    for item in sequence:\n",
    "        if(function(item)):\n",
    "            result.append(item)\n",
    "    return result"
   ]
  },
  {
   "cell_type": "code",
   "execution_count": 3,
   "metadata": {},
   "outputs": [
    {
     "name": "stdout",
     "output_type": "stream",
     "text": [
      "['A', 'C', 'A', 'D', 'G', 'I', 'L', 'D']\n"
     ]
    }
   ],
   "source": [
    "word='ACADGILD'\n",
    "letter_list=[letter  for letter in word]\n",
    "print(letter_list)"
   ]
  },
  {
   "cell_type": "code",
   "execution_count": 4,
   "metadata": {},
   "outputs": [
    {
     "name": "stdout",
     "output_type": "stream",
     "text": [
      "['x', 'xx', 'xxx', 'y', 'yy', 'yyy', 'z', 'zz', 'zzz']\n"
     ]
    }
   ],
   "source": [
    "input_list=['x','y','z']\n",
    "result=[item*num for item in input_list for num in range(1,4)]\n",
    "print(result)"
   ]
  },
  {
   "cell_type": "code",
   "execution_count": 5,
   "metadata": {},
   "outputs": [
    {
     "name": "stdout",
     "output_type": "stream",
     "text": [
      "['x', 'y', 'z', 'xx', 'yy', 'zz', 'xxx', 'yyy', 'zzz', 'xxxx', 'yyyy', 'zzzz']\n"
     ]
    }
   ],
   "source": [
    "input_list=['x','y','z']\n",
    "result=[item*num for num in range(1,5)for item in input_list]\n",
    "print(result)"
   ]
  },
  {
   "cell_type": "code",
   "execution_count": 6,
   "metadata": {},
   "outputs": [
    {
     "name": "stdout",
     "output_type": "stream",
     "text": [
      "[[2], [3], [4], [3], [4], [5], [4], [5], [6]]\n"
     ]
    }
   ],
   "source": [
    "input_list=[2,3,4]\n",
    "result=[[item+num] for item in input_list for num in range(0,3)]\n",
    "print(result)"
   ]
  },
  {
   "cell_type": "code",
   "execution_count": 7,
   "metadata": {},
   "outputs": [
    {
     "name": "stdout",
     "output_type": "stream",
     "text": [
      "[[2, 3, 4, 5], [3, 4, 5, 6], [4, 5, 6, 7]]\n"
     ]
    }
   ],
   "source": [
    "input_list=[2,3,4,5]\n",
    "result=[[item+num for item in input_list] for num in range(0,3)]\n",
    "print(result)"
   ]
  },
  {
   "cell_type": "code",
   "execution_count": 8,
   "metadata": {},
   "outputs": [],
   "source": [
    "def longestWord(lst):\n",
    "    result=len(lst[0])\n",
    "    str=lst[0]\n",
    "    for item in lst[1:]:\n",
    "        result1=len(item)\n",
    "        if(result<result1):\n",
    "            result=result1\n",
    "            str=item\n",
    "    return str\n",
    "            "
   ]
  },
  {
   "cell_type": "code",
   "execution_count": 9,
   "metadata": {},
   "outputs": [
    {
     "name": "stdout",
     "output_type": "stream",
     "text": [
      "efgh\n"
     ]
    }
   ],
   "source": [
    "str=['abc','efgh','tr']\n",
    "\n",
    "print(longestWord(str))"
   ]
  },
  {
   "cell_type": "code",
   "execution_count": 10,
   "metadata": {},
   "outputs": [],
   "source": [
    "class inputs:\n",
    "    def __init__(self):\n",
    "        self.a=float(input('Enter first side:'))\n",
    "        self.b=float(input('Enter second side:'))\n",
    "        self.c=float(input('Enter third side:'))\n",
    "    \n",
    "    \n",
    "class area(inputs):\n",
    "     def __init__(self,*args):\n",
    "            super(area, self).__init__(*args)\n",
    "    \n",
    "     def calc_area(self):\n",
    "            s1=(self.a+self.b+self.c)\n",
    "            s=s1/2\n",
    "            area=float((s*((s-self.a)*(s-self.b)*(s-self.c))) ** 0.5)\n",
    "            return area\n",
    "        "
   ]
  },
  {
   "cell_type": "code",
   "execution_count": 11,
   "metadata": {},
   "outputs": [
    {
     "name": "stdout",
     "output_type": "stream",
     "text": [
      "Enter first side:2\n",
      "Enter second side:3\n",
      "Enter third side:4\n",
      "2.9047375096555625\n"
     ]
    }
   ],
   "source": [
    "c=area()\n",
    "print( c.calc_area())"
   ]
  },
  {
   "cell_type": "code",
   "execution_count": 12,
   "metadata": {},
   "outputs": [],
   "source": [
    "def filter_long_words(words,n):\n",
    "    long_words=[]\n",
    "    for i in range(len(words)):\n",
    "        result=len(words[i])\n",
    "        if(result>n):\n",
    "            long_words.append(words[i])\n",
    "    return long_words"
   ]
  },
  {
   "cell_type": "code",
   "execution_count": 14,
   "metadata": {},
   "outputs": [
    {
     "name": "stdout",
     "output_type": "stream",
     "text": [
      "enter list of wordswe,wer,the,thu\n",
      "enter a number2\n",
      "['wer', 'the', 'thu']\n"
     ]
    }
   ],
   "source": [
    "words=input(\"enter list of words\")\n",
    "words=words.split(\",\")\n",
    "n=int(input(\"enter a number\"))\n",
    "l=filter_long_words(words,n)\n",
    "print(l)"
   ]
  },
  {
   "cell_type": "code",
   "execution_count": 15,
   "metadata": {},
   "outputs": [],
   "source": [
    "def len_words(word):\n",
    "    length=[]\n",
    "    for i in range(len(word)):\n",
    "        length.append(len(word[i]))\n",
    "    return length"
   ]
  },
  {
   "cell_type": "code",
   "execution_count": 16,
   "metadata": {},
   "outputs": [
    {
     "name": "stdout",
     "output_type": "stream",
     "text": [
      "enter list of wordsw,we,abc\n",
      "[1, 2, 3]\n"
     ]
    }
   ],
   "source": [
    "words=input(\"enter list of words\")\n",
    "words=words.split(\",\")\n",
    "l=len_words(words)\n",
    "print(l)"
   ]
  },
  {
   "cell_type": "code",
   "execution_count": 17,
   "metadata": {},
   "outputs": [],
   "source": [
    "def is_vowel(s):\n",
    "    vow=['a','e','i','o','u']\n",
    "    value=False\n",
    "    for i in range(len(vow)):\n",
    "        if(s==vow[i]):\n",
    "            value=True\n",
    "            break\n",
    "    return value"
   ]
  },
  {
   "cell_type": "code",
   "execution_count": 18,
   "metadata": {},
   "outputs": [
    {
     "name": "stdout",
     "output_type": "stream",
     "text": [
      "True\n"
     ]
    }
   ],
   "source": [
    "s=is_vowel('a')\n",
    "print(s)"
   ]
  },
  {
   "cell_type": "code",
   "execution_count": null,
   "metadata": {},
   "outputs": [],
   "source": []
  }
 ],
 "metadata": {
  "kernelspec": {
   "display_name": "Python 3",
   "language": "python",
   "name": "python3"
  },
  "language_info": {
   "codemirror_mode": {
    "name": "ipython",
    "version": 3
   },
   "file_extension": ".py",
   "mimetype": "text/x-python",
   "name": "python",
   "nbconvert_exporter": "python",
   "pygments_lexer": "ipython3",
   "version": "3.7.3"
  }
 },
 "nbformat": 4,
 "nbformat_minor": 2
}
